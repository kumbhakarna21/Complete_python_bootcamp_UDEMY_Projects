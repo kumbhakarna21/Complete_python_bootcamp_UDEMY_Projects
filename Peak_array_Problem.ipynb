{
 "cells": [
  {
   "cell_type": "code",
   "execution_count": 1,
   "id": "464858a5",
   "metadata": {},
   "outputs": [],
   "source": [
    "##peak array \n",
    "\n",
    "def peak_array(arr):\n",
    "    if len(arr) == 1:\n",
    "        return 1\n",
    "    \n",
    "    temp_arr = []\n",
    "    i = 0\n",
    "    j = 1\n",
    "    \n",
    "    while i < len(arr) and j < (len(arr)-1):\n",
    "        if arr[i] < arr[j] :\n",
    "            temp_arr.append(arr[i])\n",
    "            temp_arr.append(arr[j])\n",
    "        i +=1\n",
    "        j +=1\n",
    "            \n",
    "    return len(set(temp_arr))       \n",
    "        \n",
    "    \n",
    "    "
   ]
  },
  {
   "cell_type": "code",
   "execution_count": 3,
   "id": "c15ef691",
   "metadata": {},
   "outputs": [
    {
     "data": {
      "text/plain": [
       "2"
      ]
     },
     "execution_count": 3,
     "metadata": {},
     "output_type": "execute_result"
    }
   ],
   "source": [
    "arr1 = [1]\n",
    "arr2 = [11,9,10,12,1]\n",
    "arr3 = [3,3,9,8,4]\n",
    "peak_array(arr3)"
   ]
  },
  {
   "cell_type": "code",
   "execution_count": null,
   "id": "abcc1bf8",
   "metadata": {},
   "outputs": [],
   "source": []
  }
 ],
 "metadata": {
  "kernelspec": {
   "display_name": "Python 3 (ipykernel)",
   "language": "python",
   "name": "python3"
  },
  "language_info": {
   "codemirror_mode": {
    "name": "ipython",
    "version": 3
   },
   "file_extension": ".py",
   "mimetype": "text/x-python",
   "name": "python",
   "nbconvert_exporter": "python",
   "pygments_lexer": "ipython3",
   "version": "3.9.7"
  }
 },
 "nbformat": 4,
 "nbformat_minor": 5
}
